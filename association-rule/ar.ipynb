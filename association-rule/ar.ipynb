{
 "cells": [
  {
   "cell_type": "code",
   "execution_count": null,
   "metadata": {},
   "outputs": [],
   "source": [
    "# Import libraries\n",
    "import pandas as pd\n",
    "from mlxtend.frequent_patterns import apriori, association_rules\n",
    "\n",
    "# Membaca dataset dari file CSV\n",
    "df = pd.read_csv('dataset.csv')\n"
   ]
  },
  {
   "cell_type": "code",
   "execution_count": null,
   "metadata": {},
   "outputs": [],
   "source": [
    "# Menampilkan nama kolom untuk memeriksa kesalahan\n",
    "print(df.columns)\n"
   ]
  },
  {
   "cell_type": "code",
   "execution_count": null,
   "metadata": {},
   "outputs": [],
   "source": [
    "# Pastikan kolom 'Produk' ada di dalam DataFrame\n",
    "if ' Produk' in df.columns:\n",
    "    # Memisahkan kolom 'Produk' menjadi kolom item yang terpisah\n",
    "    df_products = df[' Produk'].str.get_dummies(',')\n",
    "\n",
    "    # Menggabungkan DataFrame asli dengan DataFrame biner\n",
    "    df = df.drop(columns=['ID Transaksi', ' Produk']).join(df_products)\n",
    "\n",
    "    # Menampilkan DataFrame setelah transformasi\n",
    "    print(df.head())\n",
    "\n",
    "    # Menggunakan algoritma Apriori untuk mencari frequent itemsets\n",
    "    frequent_itemsets = apriori(df, min_support=0.1, use_colnames=True)\n",
    "\n",
    "    # Menghitung association rules\n",
    "    rules = association_rules(frequent_itemsets, metric=\"lift\", min_threshold=1)\n",
    "\n",
    "    # Menampilkan hasil\n",
    "    print(\"Frequent Itemsets:\")\n",
    "    print(frequent_itemsets)\n",
    "    print(\"\\nAssociation Rules:\")\n",
    "    print(rules)\n",
    "else:\n",
    "    print(\"Kolom 'Produk' tidak ditemukan di dalam DataFrame.\")\n"
   ]
  }
 ],
 "metadata": {
  "kernelspec": {
   "display_name": "Python 3",
   "language": "python",
   "name": "python3"
  },
  "language_info": {
   "codemirror_mode": {
    "name": "ipython",
    "version": 3
   },
   "file_extension": ".py",
   "mimetype": "text/x-python",
   "name": "python",
   "nbconvert_exporter": "python",
   "pygments_lexer": "ipython3",
   "version": "3.10.2"
  }
 },
 "nbformat": 4,
 "nbformat_minor": 2
}
