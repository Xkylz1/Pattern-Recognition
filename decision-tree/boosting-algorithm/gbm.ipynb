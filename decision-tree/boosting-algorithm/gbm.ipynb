{
 "cells": [
  {
   "cell_type": "code",
   "execution_count": null,
   "metadata": {},
   "outputs": [],
   "source": [
    "import numpy as np\n",
    "import pandas as pd\n",
    "from sklearn.model_selection import train_test_split\n",
    "from sklearn.ensemble import GradientBoostingClassifier\n",
    "from sklearn.metrics import accuracy_score, classification_report\n",
    "from sklearn.tree import export_graphviz\n",
    "import graphviz\n",
    "from IPython.display import Image\n",
    "import pydotplus"
   ]
  },
  {
   "cell_type": "code",
   "execution_count": null,
   "metadata": {},
   "outputs": [],
   "source": [
    "df = pd.read_csv('../lung_cancer_examples.csv')\n",
    "\n",
    "# Display the first few rows of the dataset\n",
    "df.head()"
   ]
  },
  {
   "cell_type": "code",
   "execution_count": null,
   "metadata": {},
   "outputs": [],
   "source": [
    "# Preprocess Data\n",
    "# Select columns for features and target\n",
    "X = df.iloc[:, 2:-1].values\n",
    "y = df.iloc[:, -1].values"
   ]
  },
  {
   "cell_type": "code",
   "execution_count": null,
   "metadata": {},
   "outputs": [],
   "source": [
    "# Split the dataset into training and testing sets\n",
    "X_train, X_test, y_train, y_test = train_test_split(X, y, test_size=0.3, random_state=42)\n"
   ]
  },
  {
   "cell_type": "code",
   "execution_count": null,
   "metadata": {},
   "outputs": [],
   "source": [
    "# Create and Train Gradient Boosting Machine Model\n",
    "gbm = GradientBoostingClassifier(n_estimators=100, random_state=42)\n",
    "gbm.fit(X_train, y_train)\n"
   ]
  },
  {
   "cell_type": "code",
   "execution_count": null,
   "metadata": {},
   "outputs": [],
   "source": [
    "# Make Predictions and Evaluate\n",
    "y_pred = gbm.predict(X_test)\n",
    "\n",
    "# Calculate accuracy\n",
    "accuracy = accuracy_score(y_test, y_pred)\n",
    "print(f'Accuracy: {accuracy:.2f}')\n",
    "\n",
    "# Print detailed classification report\n",
    "print('Classification Report:')\n",
    "print(classification_report(y_test, y_pred))"
   ]
  },
  {
   "cell_type": "code",
   "execution_count": null,
   "metadata": {},
   "outputs": [],
   "source": [
    "# Test with a Specific Sample\n",
    "sample = np.array([[30, 0, 5, 2]])  # Replace with your actual sample\n",
    "prediction = gbm.predict(sample)\n",
    "\n",
    "print('Prediction for sample [30, 0, 5, 2]:', prediction[0])"
   ]
  },
  {
   "cell_type": "code",
   "execution_count": null,
   "metadata": {},
   "outputs": [],
   "source": [
    "# Extract one tree from the forest (e.g., the first tree)\n",
    "tree = gbm.estimators_[0, 0]  # For GBM, access the tree at [0, 0] index\n",
    "\n",
    "# Export the tree as DOT data with simplified visualization parameters\n",
    "dot_data = export_graphviz(tree, out_file=None, \n",
    "                           feature_names=df.columns[2:-1],\n",
    "                           class_names=[str(i) for i in set(y)],\n",
    "                           filled=True, rounded=True,\n",
    "                           special_characters=True,\n",
    "                           max_depth=3,  # Limit the depth for better readability\n",
    "                           node_ids=False,  # Do not show node IDs\n",
    "                           label='none',  # Do not show labels\n",
    "                           leaves_parallel=False)  # Avoid parallel leaves\n",
    "\n",
    "# Use pydotplus to create a graph from the DOT data\n",
    "graph = pydotplus.graph_from_dot_data(dot_data)\n",
    "\n",
    "# Display the simplified tree image\n",
    "Image(graph.create_png(), width=800, height=600)"
   ]
  }
 ],
 "metadata": {
  "kernelspec": {
   "display_name": "Python 3",
   "language": "python",
   "name": "python3"
  },
  "language_info": {
   "codemirror_mode": {
    "name": "ipython",
    "version": 3
   },
   "file_extension": ".py",
   "mimetype": "text/x-python",
   "name": "python",
   "nbconvert_exporter": "python",
   "pygments_lexer": "ipython3",
   "version": "3.10.2"
  }
 },
 "nbformat": 4,
 "nbformat_minor": 2
}
