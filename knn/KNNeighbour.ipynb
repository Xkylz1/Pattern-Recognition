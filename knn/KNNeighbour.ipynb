{
 "cells": [
  {
   "cell_type": "code",
   "execution_count": 33,
   "metadata": {},
   "outputs": [],
   "source": [
    "# Cell 1: Import necessary libraries\n",
    "import numpy as np\n",
    "import pandas as pd\n",
    "from sklearn.neighbors import KNeighborsClassifier\n",
    "from sklearn.model_selection import KFold\n",
    "from sklearn.metrics import accuracy_score, precision_score, recall_score, classification_report"
   ]
  },
  {
   "cell_type": "code",
   "execution_count": 34,
   "metadata": {},
   "outputs": [],
   "source": [
    "# Cell 2: Load the dataset\n",
    "S = pd.read_csv('dataset_fisik.csv')\n",
    "S = S.values"
   ]
  },
  {
   "cell_type": "code",
   "execution_count": 35,
   "metadata": {},
   "outputs": [],
   "source": [
    "# Cell 3: Separate input features and labels\n",
    "X = S[:, 0:4]  # Input features\n",
    "y = S[:, 4]    # Labels"
   ]
  },
  {
   "cell_type": "code",
   "execution_count": 36,
   "metadata": {},
   "outputs": [
    {
     "name": "stdout",
     "output_type": "stream",
     "text": [
      "KFold(n_splits=5, random_state=0, shuffle=True)\n"
     ]
    }
   ],
   "source": [
    "# Cell 4: Initialize K-Fold cross-validation\n",
    "kf = KFold(n_splits=5, random_state=0, shuffle=True)\n",
    "\n",
    "# Print KFold object to understand its structure\n",
    "print(kf)"
   ]
  },
  {
   "cell_type": "code",
   "execution_count": null,
   "metadata": {},
   "outputs": [],
   "source": [
    "# Cell 5: Loop over different values of k\n",
    "results = {}  # Dictionary to store results for each k\n",
    "\n",
    "for k in range(1, 6):\n",
    "    neigh2 = KNeighborsClassifier(n_neighbors=k, metric='euclidean')\n",
    "\n",
    "    # Initialize arrays to store accuracy, precision, and recall for each fold\n",
    "    avg_acc = np.zeros(5)\n",
    "    avg_pre = np.zeros(5)\n",
    "    avg_rec = np.zeros(5)\n",
    "\n",
    "    # Cross-validation loop\n",
    "    for i, (train_index, test_index) in enumerate(kf.split(X)):\n",
    "        X_train, X_test = X[train_index], X[test_index]\n",
    "        y_train, y_test = y[train_index], y[test_index]\n",
    "\n",
    "        # Train the classifier\n",
    "        neigh2.fit(X_train, y_train)\n",
    "\n",
    "        # Make predictions\n",
    "        y_pred = neigh2.predict(X_test)\n",
    "\n",
    "        # Calculate and store metrics\n",
    "        avg_acc[i] = accuracy_score(y_test, y_pred)\n",
    "        avg_pre[i] = precision_score(y_test, y_pred, average='macro')\n",
    "        avg_rec[i] = recall_score(y_test, y_pred, average='macro')\n",
    "\n",
    "        # Print classification report for the current fold\n",
    "        print(f\"k = {k}, Fold {i+1} classification report:\\n\", classification_report(y_test, y_pred))\n",
    "\n",
    "    # Store the average metrics for the current value of k\n",
    "    results[k] = {\n",
    "        \"average_accuracy\": np.mean(avg_acc),\n",
    "        \"average_precision\": np.mean(avg_pre),\n",
    "        \"average_recall\": np.mean(avg_rec)\n",
    "    }"
   ]
  },
  {
   "cell_type": "code",
   "execution_count": 38,
   "metadata": {},
   "outputs": [
    {
     "name": "stdout",
     "output_type": "stream",
     "text": [
      "Results for k = 1:\n",
      "Average Accuracy:  0.4\n",
      "Average Precision:  0.4\n",
      "Average Recall:  0.4\n",
      "\n",
      "Results for k = 2:\n",
      "Average Accuracy:  0.5\n",
      "Average Precision:  0.45\n",
      "Average Recall:  0.5\n",
      "\n",
      "Results for k = 3:\n",
      "Average Accuracy:  0.1\n",
      "Average Precision:  0.05\n",
      "Average Recall:  0.1\n",
      "\n",
      "Results for k = 4:\n",
      "Average Accuracy:  0.1\n",
      "Average Precision:  0.05\n",
      "Average Recall:  0.1\n",
      "\n",
      "Results for k = 5:\n",
      "Average Accuracy:  0.1\n",
      "Average Precision:  0.05\n",
      "Average Recall:  0.1\n",
      "\n",
      "The best k is 2 with an average accuracy of 0.5\n"
     ]
    }
   ],
   "source": [
    "# Cell 6: Print results for each k and determine the best k based on average accuracy\n",
    "best_k = 1\n",
    "best_accuracy = 0\n",
    "\n",
    "for k in results:\n",
    "    print(f\"Results for k = {k}:\")\n",
    "    print(\"Average Accuracy: \", results[k][\"average_accuracy\"])\n",
    "    print(\"Average Precision: \", results[k][\"average_precision\"])\n",
    "    print(\"Average Recall: \", results[k][\"average_recall\"])\n",
    "    print()\n",
    "    # Determine the best k based on the highest average accuracy\n",
    "    if results[k][\"average_accuracy\"] > best_accuracy:\n",
    "        best_accuracy = results[k][\"average_accuracy\"]\n",
    "        best_k = k\n",
    "\n",
    "print(f\"The best k is {best_k} with an average accuracy of {best_accuracy}\")\n"
   ]
  },
  {
   "cell_type": "code",
   "execution_count": 39,
   "metadata": {},
   "outputs": [
    {
     "name": "stdout",
     "output_type": "stream",
     "text": [
      "Prediction for new data with k = 2: ['Wanita']\n"
     ]
    }
   ],
   "source": [
    "# Cell 7: Test new data\n",
    "# Example test data: replace this with your actual test data\n",
    "new_data = np.array([[18, 47, 155, 37]])\n",
    "\n",
    "# Predict the class for the new data using the best model\n",
    "neigh2 = KNeighborsClassifier(n_neighbors=best_k, metric='euclidean')\n",
    "neigh2.fit(X, y)  # Fit the model on the entire dataset\n",
    "\n",
    "# Predict the class for the new data\n",
    "new_prediction = neigh2.predict(new_data)\n",
    "\n",
    "# Print the prediction result\n",
    "print(f\"Prediction for new data with k = {best_k}:\", new_prediction)"
   ]
  }
 ],
 "metadata": {
  "kernelspec": {
   "display_name": "Python 3",
   "language": "python",
   "name": "python3"
  },
  "language_info": {
   "codemirror_mode": {
    "name": "ipython",
    "version": 3
   },
   "file_extension": ".py",
   "mimetype": "text/x-python",
   "name": "python",
   "nbconvert_exporter": "python",
   "pygments_lexer": "ipython3",
   "version": "3.10.2"
  }
 },
 "nbformat": 4,
 "nbformat_minor": 2
}
