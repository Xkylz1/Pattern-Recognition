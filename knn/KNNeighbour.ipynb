{
 "cells": [
  {
   "cell_type": "code",
   "execution_count": null,
   "metadata": {},
   "outputs": [],
   "source": [
    "# Kelompok 1\n",
    "# Nama Anggota\n",
    "# 1. NANDA PUTRI RAHMAWATI (2011016320021)\n",
    "# 2. HELMA MUKIMAH (2211016220008)\n",
    "# 3. NORKHADIJAH (2211016220030)\n",
    "# 4. FAUZAN SAPUTRA (2211016310003)\n",
    "# Link GDrive data dan output = https://drive.google.com/drive/folders/1-dgVW5mK2UjWzQTQIz2j16YxZ6oczWcy?usp=drive_link"
   ]
  },
  {
   "cell_type": "code",
   "execution_count": null,
   "metadata": {},
   "outputs": [],
   "source": [
    "import numpy as np\n",
    "import pandas as pd\n",
    "from sklearn.neighbors import KNeighborsClassifier\n",
    "from sklearn.model_selection import KFold\n",
    "from sklearn.metrics import accuracy_score, precision_score, recall_score, classification_report"
   ]
  },
  {
   "cell_type": "code",
   "execution_count": null,
   "metadata": {},
   "outputs": [],
   "source": [
    "S = pd.read_csv('lung_cancer_examples.csv')\n",
    "S = S.values"
   ]
  },
  {
   "cell_type": "code",
   "execution_count": null,
   "metadata": {},
   "outputs": [],
   "source": [
    "X = S[:, 2:6]  # Input features (Age, Smokes, AreaQ, Alkhol)\n",
    "y = S[:, 6]    # Labels (Result)\n",
    "\n",
    "# Ensure that the labels are integers\n",
    "y = y.astype(int)"
   ]
  },
  {
   "cell_type": "code",
   "execution_count": null,
   "metadata": {},
   "outputs": [],
   "source": [
    "# Initialize K-Fold cross-validation\n",
    "kf = KFold(n_splits=5, random_state=0, shuffle=True)\n",
    "\n",
    "print(kf)"
   ]
  },
  {
   "cell_type": "code",
   "execution_count": null,
   "metadata": {},
   "outputs": [],
   "source": [
    "# Loop over different values of k\n",
    "results = {}  # Dictionary to store results for each k\n",
    "\n",
    "for k in range(1, 6):\n",
    "    neigh2 = KNeighborsClassifier(n_neighbors=k, metric='euclidean')\n",
    "\n",
    "    # Initialize arrays to store accuracy, precision, and recall for each fold\n",
    "    avg_acc = np.zeros(5)\n",
    "    avg_pre = np.zeros(5)\n",
    "    avg_rec = np.zeros(5)\n",
    "\n",
    "    # Cross-validation loop\n",
    "    for i, (train_index, test_index) in enumerate(kf.split(X)):\n",
    "        X_train, X_test = X[train_index], X[test_index]\n",
    "        y_train, y_test = y[train_index], y[test_index]\n",
    "\n",
    "        # Train the classifier\n",
    "        neigh2.fit(X_train, y_train)\n",
    "\n",
    "        # Make predictions\n",
    "        y_pred = neigh2.predict(X_test)\n",
    "\n",
    "        # Calculate and store metrics\n",
    "        avg_acc[i] = accuracy_score(y_test, y_pred)\n",
    "        avg_pre[i] = precision_score(y_test, y_pred, average='macro')\n",
    "        avg_rec[i] = recall_score(y_test, y_pred, average='macro')\n",
    "\n",
    "        # Print classification report for the current fold\n",
    "        print(f\"k = {k}, Fold {i+1} classification report:\\n\", classification_report(y_test, y_pred))\n",
    "\n",
    "    # Store the average metrics for the current value of k\n",
    "    results[k] = {\n",
    "        \"average_accuracy\": np.mean(avg_acc),\n",
    "        \"average_precision\": np.mean(avg_pre),\n",
    "        \"average_recall\": np.mean(avg_rec)\n",
    "    }"
   ]
  },
  {
   "cell_type": "code",
   "execution_count": null,
   "metadata": {},
   "outputs": [],
   "source": [
    "# Print results for each k and determine the best k based on average accuracy\n",
    "best_k = 1\n",
    "best_accuracy = 0\n",
    "\n",
    "for k in results:\n",
    "    print(f\"Results for k = {k}:\")\n",
    "    print(\"Average Accuracy: \", results[k][\"average_accuracy\"])\n",
    "    print(\"Average Precision: \", results[k][\"average_precision\"])\n",
    "    print(\"Average Recall: \", results[k][\"average_recall\"])\n",
    "    print()\n",
    "    # Determine the best k based on the highest average accuracy\n",
    "    if results[k][\"average_accuracy\"] > best_accuracy:\n",
    "        best_accuracy = results[k][\"average_accuracy\"]\n",
    "        best_k = k\n",
    "\n",
    "print(f\"The best k is {best_k} with an average accuracy of {best_accuracy}\")"
   ]
  },
  {
   "cell_type": "code",
   "execution_count": null,
   "metadata": {},
   "outputs": [],
   "source": [
    "# Test new data\n",
    "# Example test data\n",
    "new_data = np.array([[43 , 17, 6, 0]])  # Example new data based on provided format\n",
    "\n",
    "# Print prediction for new data with the best k\n",
    "# neigh2 = KNeighborsClassifier(n_neighbors=best_k, metric='euclidean')\n",
    "# neigh2.fit(X, y)  # Fit the model on the entire dataset\n",
    "# new_prediction = neigh2.predict(new_data)\n",
    "# print(f\"Prediction for new data with k = {best_k}:\", new_prediction)\n",
    "\n",
    "# Loop k = 1 to k = 5 to predict the class for the new data\n",
    "for k in range(1, 6):\n",
    "    # Create the KNeighborsClassifier with k neighbors\n",
    "    neigh2 = KNeighborsClassifier(n_neighbors=k, metric='euclidean')\n",
    "    \n",
    "    # Fit the model on the entire dataset\n",
    "    neigh2.fit(X, y)\n",
    "    \n",
    "    # Predict the class for the new data\n",
    "    new_prediction = neigh2.predict(new_data)\n",
    "    \n",
    "    # Determine label based on prediction\n",
    "    if new_prediction == 1:\n",
    "        label = 'Cancer'\n",
    "    else:\n",
    "        label = 'Non Cancer'\n",
    "    \n",
    "    # Print the prediction result\n",
    "    print(f\"Prediction for new data with k = {k}:\", label)"
   ]
  }
 ],
 "metadata": {
  "kernelspec": {
   "display_name": "Python 3",
   "language": "python",
   "name": "python3"
  },
  "language_info": {
   "codemirror_mode": {
    "name": "ipython",
    "version": 3
   },
   "file_extension": ".py",
   "mimetype": "text/x-python",
   "name": "python",
   "nbconvert_exporter": "python",
   "pygments_lexer": "ipython3",
   "version": "3.10.2"
  }
 },
 "nbformat": 4,
 "nbformat_minor": 2
}
